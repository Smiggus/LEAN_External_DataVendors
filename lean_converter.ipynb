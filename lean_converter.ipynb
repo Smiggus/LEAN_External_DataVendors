{
 "cells": [
  {
   "cell_type": "markdown",
   "metadata": {},
   "source": [
    "### Lean Converter\n",
    "Takes the input as a csv file for a ticker, then converts it to the LEAN CLI format. The output is a csv file that can be used to import the data into LEAN."
   ]
  },
  {
   "cell_type": "code",
   "execution_count": 1,
   "metadata": {},
   "outputs": [],
   "source": [
    "import pandas as pd\n",
    "def convert_to_lean_format(csv_file, ticker, frequency='daily'):\n",
    "    \"\"\"\n",
    "    Converts a CSV file containing stock data into a format compatible with LEAN Local CLI Framework.\n",
    "    Args:\n",
    "        csv_file (str): The path to the input CSV file containing stock data.\n",
    "        ticker (str): The stock ticker symbol.\n",
    "        frequency (str, optional): The frequency of the data. Can be 'daily', 'hourly', or 'minute'. Defaults to 'daily'.\n",
    "    Returns:\n",
    "        None: The function saves the converted data to a file in the appropriate directory based on the frequency. Located within project directory.\n",
    "    \"\"\"\n",
    "    \n",
    "    df = pd.read_csv(csv_file)\n",
    "    df['date'] = pd.to_datetime(df.pop('ts_event')).dt.strftime('%Y%m%d')\n",
    "    df = df[['date', 'open', 'high', 'low', 'close', 'volume']]\n",
    "    \n",
    "    if frequency == 'daily':\n",
    "        output_file = f\"data/equity/usa/daily/{ticker}.csv\"\n",
    "    elif frequency == 'hourly':\n",
    "        output_file = f\"data/equity/usa/hourly/{ticker}.csv\"\n",
    "    else:\n",
    "        output_file = f\"data/equity/usa/minute/{ticker}.zip\"\n",
    "    \n",
    "    df.to_csv(output_file, index=False)\n",
    "\n",
    "# Example conversion\n",
    "convert_to_lean_format('AAPL_data.csv', 'AAPL', frequency='daily')\n"
   ]
  },
  {
   "cell_type": "markdown",
   "metadata": {},
   "source": [
    "V2 based on the sample readme within data file\n",
    "##### To convert the data into the target format specified in the markdown readme \"sample_readme.md\" file, the following steps are performed:#####\n",
    "\n",
    "Read the CSV file using pandas.\n",
    "Convert the date format to YYYYMMDD HH:MM.\n",
    "Convert prices from dollars to deci-cents.\n",
    "Reorder the columns to match the target format: DateTime, Open, High, Low, Close, Volume.\n",
    "Save the formatted data to a zip file containing a CSV file named aapl.csv.\n",
    "\n",
    "##### Reading the CSV File: ######\n",
    "\n",
    "The pd.read_csv(csv_file) function reads the CSV file into a pandas DataFrame.\n",
    "Converting the Date Format:\n",
    "\n",
    "The pd.to_datetime(df['date']).dt.strftime('%Y%m%d %H:%M') function converts the date column to the YYYYMMDD HH:MM format.\n",
    "Converting Prices to Deci-cents:\n",
    "\n",
    "The prices are multiplied by 10,000 and converted to integers to represent deci-cents.\n",
    "Reordering the Columns:\n",
    "\n",
    "The columns are reordered to match the target format and renamed accordingly.\n",
    "Saving and Zipping the Formatted Data:\n",
    "\n",
    "The formatted data is saved to a CSV file, which is then zipped into a file named aapl.zip. The original CSV file is removed after zipping."
   ]
  },
  {
   "cell_type": "code",
   "execution_count": 3,
   "metadata": {},
   "outputs": [],
   "source": [
    "import pandas as pd\n",
    "from datetime import datetime\n",
    "import zipfile\n",
    "import os\n",
    "\n",
    "def convert_to_lean_hourly_daily_format(csv_file, ticker):\n",
    "    # Read the CSV file\n",
    "    df = pd.read_csv(csv_file)\n",
    "    \n",
    "    # Convert the date format to 'YYYYMMDD HH:MM'\n",
    "    #df['date'] = pd.to_datetime(df['date']).dt.strftime('%Y%m%d %H:%M')\n",
    "    df['date'] = pd.to_datetime(df['ts_event']).dt.strftime('%Y%m%d %H:%M')\n",
    "    \n",
    "    # Convert prices from dollars to deci-cents\n",
    "    df['open'] = (df['open'] * 10000).astype(int)\n",
    "    df['high'] = (df['high'] * 10000).astype(int)\n",
    "    df['low'] = (df['low'] * 10000).astype(int)\n",
    "    df['close'] = (df['close'] * 10000).astype(int)\n",
    "    \n",
    "    # Reorder the columns to match the target format\n",
    "    df = df[['date', 'open', 'high', 'low', 'close', 'volume']]\n",
    "    df.columns = ['DateTime', 'Open', 'High', 'Low', 'Close', 'Volume']\n",
    "    \n",
    "    # Create the output directory if it doesn't exist\n",
    "    output_dir = f\"data/equity/usa/hour\"\n",
    "    os.makedirs(output_dir, exist_ok=True)\n",
    "    \n",
    "    # Save the formatted data to a CSV file\n",
    "    output_csv = f\"{output_dir}/{ticker}.csv\"\n",
    "    df.to_csv(output_csv, index=False)\n",
    "    \n",
    "    # Zip the CSV file\n",
    "    with zipfile.ZipFile(f\"{output_dir}/{ticker}.zip\", 'w', zipfile.ZIP_DEFLATED) as zipf:\n",
    "        zipf.write(output_csv, arcname=f\"{ticker}.csv\")\n",
    "    \n",
    "    # Remove the CSV file after zipping\n",
    "    os.remove(output_csv)\n",
    "\n",
    "# Example conversion\n",
    "convert_to_lean_hourly_daily_format('AAPL_data.csv', 'aapl')"
   ]
  },
  {
   "cell_type": "code",
   "execution_count": null,
   "metadata": {},
   "outputs": [],
   "source": []
  }
 ],
 "metadata": {
  "kernelspec": {
   "display_name": "lean_datafeed",
   "language": "python",
   "name": "python3"
  },
  "language_info": {
   "codemirror_mode": {
    "name": "ipython",
    "version": 3
   },
   "file_extension": ".py",
   "mimetype": "text/x-python",
   "name": "python",
   "nbconvert_exporter": "python",
   "pygments_lexer": "ipython3",
   "version": "3.12.5"
  }
 },
 "nbformat": 4,
 "nbformat_minor": 2
}
