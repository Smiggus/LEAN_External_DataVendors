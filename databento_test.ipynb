{
 "cells": [
  {
   "cell_type": "markdown",
   "metadata": {},
   "source": [
    "# DataBento Downloader"
   ]
  },
  {
   "cell_type": "code",
   "execution_count": null,
   "metadata": {},
   "outputs": [],
   "source": [
    "''' DataBento Downloader\n",
    "    Downloads the tickers within the tickers[] list. Saves them locally to a CSV file.\n",
    "'''\n",
    "### Region Imports ###\n",
    "import databento as db\n",
    "from dotenv import load_dotenv\n",
    "import os\n",
    "import pandas as pd\n",
    "from datetime import datetime\n",
    "### End Region Imports ###\n",
    "\n",
    "# Initialize Data Bento client\n",
    "client = db.Historical(os.getenv('databento_api_key'))\n",
    "\n",
    "# Example tickers and date range\n",
    "tickers = ['SPY']\n",
    "start_date = '2020-01-01'\n",
    "end_date = '2024-09-01'\n",
    "\n",
    "for ticker in tickers:\n",
    "    dataset = client.timeseries.get_range(\n",
    "        dataset=\"XNAS.ITCH\",\n",
    "        symbols=ticker,\n",
    "        start=start_date,\n",
    "        end=end_date,\n",
    "        schema='ohlcv-1d'\n",
    "    )\n",
    "    dataset.to_csv(f'databento/downloads/{ticker}_data.csv')\n"
   ]
  },
  {
   "cell_type": "markdown",
   "metadata": {},
   "source": [
    "# Converter Method\n",
    "Working as of 26SEP24"
   ]
  },
  {
   "cell_type": "code",
   "execution_count": 2,
   "metadata": {},
   "outputs": [],
   "source": [
    "import pandas as pd\n",
    "from datetime import datetime\n",
    "import zipfile\n",
    "import os\n",
    "\n",
    "ticker = 'SPY'\n",
    "def convert_to_lean_format(csv_file, ticker, frequency='daily'):\n",
    "    \"\"\"\n",
    "    Converts a CSV file containing stock data into a format compatible with LEAN Local CLI Framework.\n",
    "    Args:\n",
    "        csv_file (str): The path to the input CSV file containing stock data.\n",
    "        ticker (str): The stock ticker symbol.\n",
    "        frequency (str, optional): The frequency of the data. Can be 'daily', 'hourly', or 'minute'. Defaults to 'daily'.\n",
    "    Returns:\n",
    "        None: The function saves the converted data to a file in the appropriate directory based on the frequency. Located within project directory.\n",
    "    \"\"\"\n",
    "    \n",
    "    df = pd.read_csv(csv_file)\n",
    "    df['date'] = pd.to_datetime(df.pop('ts_event')).dt.strftime('%Y%m%d %H:%M')\n",
    "    df = df[['date', 'open', 'high', 'low', 'close', 'volume']]\n",
    "    \n",
    "    # Conversion from dollars to deci-cents\n",
    "    df[['open', 'high', 'low', 'close']] = (df[['open', 'high', 'low', 'close']] * 10000).astype(int)\n",
    "    \n",
    "    # Data type sorting for directory saving for csv\n",
    "    if frequency == 'daily':\n",
    "        output_dir = 'data/equity/usa/daily/'\n",
    "        output_file = f\"{output_dir}{ticker.lower()}.csv\"\n",
    "    elif frequency == 'hourly':\n",
    "        output_dir = 'data/equity/usa/hourly/'\n",
    "        output_file = f\"{output_dir}{ticker.lower()}.csv\"\n",
    "    else:\n",
    "        output_dir = 'data/equity/usa/minute/'\n",
    "        output_file = f\"{output_dir}{ticker.lower()}.zip\"\n",
    "    \n",
    "    df.to_csv(output_file, index=False, header=False)\n",
    "    \n",
    "    # Zip File\n",
    "    zip_file = os.path.join(output_dir, f'{ticker}.zip')\n",
    "    # Create a zip file and add the csv file to it\n",
    "    with zipfile.ZipFile(zip_file, 'w') as zf:\n",
    "        zf.write(csv_file)\n",
    "\n",
    "    # Optionally, remove the csv file after zipping (if you want the zip to be the only output)\n",
    "    #os.remove(csv_file)\n",
    "\n",
    "    print(f\"{csv_file} has been successfully zipped into {zip_file}.\")"
   ]
  },
  {
   "cell_type": "code",
   "execution_count": 3,
   "metadata": {},
   "outputs": [
    {
     "name": "stdout",
     "output_type": "stream",
     "text": [
      "databento/downloads/SPY_data.csv has been successfully zipped into data/equity/usa/daily/SPY.zip.\n"
     ]
    }
   ],
   "source": [
    "csv_file = f'databento/downloads/{ticker}_data.csv'\n",
    "frequency = 'daily'\n",
    "convert_to_lean_format(csv_file, ticker, frequency)"
   ]
  },
  {
   "cell_type": "markdown",
   "metadata": {},
   "source": [
    "#### Combined file, downloads then converts using databento"
   ]
  },
  {
   "cell_type": "code",
   "execution_count": 5,
   "metadata": {},
   "outputs": [
    {
     "name": "stdout",
     "output_type": "stream",
     "text": [
      "databento/downloads/QQQ_data.csv has been successfully zipped into data/equity/usa/daily/QQQ.zip.\n"
     ]
    }
   ],
   "source": [
    "import databento as db\n",
    "import pandas as pd\n",
    "from datetime import datetime\n",
    "\n",
    "def convert_to_lean_format(csv_file, ticker, frequency='daily'):\n",
    "    \"\"\"\n",
    "    Converts a CSV file containing stock data into a format compatible with LEAN Local CLI Framework.\n",
    "    Args:\n",
    "        csv_file (str): The path to the input CSV file containing stock data.\n",
    "        ticker (str): The stock ticker symbol.\n",
    "        frequency (str, optional): The frequency of the data. Can be 'daily', 'hourly', or 'minute'. Defaults to 'daily'.\n",
    "    Returns:\n",
    "        None: The function saves the converted data to a file in the appropriate directory based on the frequency. Located within project directory.\n",
    "    \"\"\"\n",
    "    \n",
    "    df = pd.read_csv(csv_file)\n",
    "    # Convert the timestamp to a string in the format 'YYYYMMDD HH:MM' matching Lean's data format\n",
    "    df['date'] = pd.to_datetime(df.pop('ts_event')).dt.strftime('%Y%m%d %H:%M')\n",
    "    # setup dataframe with appropriate column names\n",
    "    df = df[['date', 'open', 'high', 'low', 'close', 'volume']]\n",
    "    # Conversion from dollars to deci-cents for price\n",
    "    df[['open', 'high', 'low', 'close']] = (df[['open', 'high', 'low', 'close']] * 10000).astype(int)\n",
    "    \n",
    "    # Data type sorting for directory saving for csv\n",
    "    if frequency == 'daily':\n",
    "        output_dir = 'data/equity/usa/daily/'\n",
    "        output_file = f\"{output_dir}{ticker.lower()}.csv\"\n",
    "    elif frequency == 'hourly':\n",
    "        output_dir = 'data/equity/usa/hourly/'\n",
    "        output_file = f\"{output_dir}{ticker.lower()}.csv\"\n",
    "    else:\n",
    "        output_dir = 'data/equity/usa/minute/'\n",
    "        output_file = f\"{output_dir}{ticker.lower()}.zip\"\n",
    "    \n",
    "    df.to_csv(output_file, index=False, header=False)\n",
    "    \n",
    "    # Zip File\n",
    "    zip_file = os.path.join(output_dir, f'{ticker}.zip')\n",
    "    # If the zip file exists, remove it to overwrite\n",
    "    if os.path.exists(zip_file):\n",
    "        os.remove(zip_file)\n",
    "        print(f\"Existing zip file '{zip_file}' removed to overwrite.\")\n",
    "    # Create a zip file and add the csv file to it\n",
    "    with zipfile.ZipFile(zip_file, 'w') as zf:\n",
    "        zf.write(csv_file)\n",
    "\n",
    "    # Optionally, remove the csv file after zipping (if you want the zip to be the only output)\n",
    "    #os.remove(csv_file)\n",
    "\n",
    "    print(f\"{csv_file} has been successfully zipped into {zip_file}.\")\n",
    "    \n",
    "def download_and_convert(tickers, start_date, end_date, frequency='daily'):\n",
    "    # Initialize Data Bento client\n",
    "    client = db.Historical(os.getenv('databento_api_key'))\n",
    "    for ticker in tickers:\n",
    "        dataset = client.timeseries.get_range(\n",
    "            dataset=\"XNAS.ITCH\",\n",
    "            symbols=ticker,\n",
    "            start=start_date,\n",
    "            end=end_date,\n",
    "            schema='ohlcv-1d'\n",
    "        )\n",
    "        csv_file = f'databento/downloads/{ticker}_data.csv'\n",
    "        dataset.to_csv(csv_file)\n",
    "\n",
    "        # Convert to QuantConnect format\n",
    "        convert_to_lean_format(csv_file, ticker, frequency)\n",
    "\n",
    "# Example ticker list and date range\n",
    "ticker_list = ['QQQ']\n",
    "download_and_convert(ticker_list, '2023-01-01', '2023-12-01', 'daily')\n"
   ]
  }
 ],
 "metadata": {
  "kernelspec": {
   "display_name": "lean_datafeed",
   "language": "python",
   "name": "python3"
  },
  "language_info": {
   "codemirror_mode": {
    "name": "ipython",
    "version": 3
   },
   "file_extension": ".py",
   "mimetype": "text/x-python",
   "name": "python",
   "nbconvert_exporter": "python",
   "pygments_lexer": "ipython3",
   "version": "3.12.5"
  }
 },
 "nbformat": 4,
 "nbformat_minor": 2
}
