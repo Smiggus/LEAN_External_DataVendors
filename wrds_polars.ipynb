{
 "cells": [
  {
   "cell_type": "code",
   "execution_count": 7,
   "metadata": {},
   "outputs": [],
   "source": [
    "import wrds\n",
    "import polars as pl\n",
    "\n",
    "def connect_to_wrds():\n",
    "    # Connect to WRDS using your credentials\n",
    "    conn = wrds.Connection()\n",
    "    return conn"
   ]
  },
  {
   "cell_type": "code",
   "execution_count": 3,
   "metadata": {},
   "outputs": [],
   "source": [
    "def get_ohlcv_data(conn, tickers, start_date, end_date):\n",
    "    # Query CRSP for OHLCV data (daily)\n",
    "    query = f\"\"\"\n",
    "        SELECT date, permno, cusip, ticker, prc AS close, \n",
    "               bidlo AS low, askhi AS high, vol AS volume, openprc AS open\n",
    "        FROM crsp.dsf\n",
    "        WHERE ticker IN ({','.join([f\"'{ticker}'\" for ticker in tickers])})\n",
    "          AND date BETWEEN '{start_date}' AND '{end_date}'\n",
    "        ORDER BY date\n",
    "    \"\"\"\n",
    "    \n",
    "    data = conn.raw_sql(query)\n",
    "    return data\n",
    "\n",
    "def convert_to_polars(data):\n",
    "    # Convert to Polars DataFrame\n",
    "    df = pl.DataFrame(data)\n",
    "    \n",
    "    # Ensure the date is in the correct format\n",
    "    df = df.with_columns(df['date'].str.strptime(pl.Date, format='%Y-%m-%d'))\n",
    "    \n",
    "    return df\n"
   ]
  },
  {
   "cell_type": "code",
   "execution_count": 4,
   "metadata": {},
   "outputs": [],
   "source": [
    "def convert_to_lean_format_polars(df, ticker, frequency='daily'):\n",
    "    # Ensure correct order of columns\n",
    "    df = df.select(['date', 'open', 'high', 'low', 'close', 'volume'])\n",
    "    \n",
    "    # Convert date to the required format (YYYYMMDD)\n",
    "    df = df.with_columns(df['date'].dt.strftime('%Y%m%d').alias('date'))\n",
    "    \n",
    "    # Save to the appropriate location\n",
    "    if frequency == 'daily':\n",
    "        output_file = f\"data/equity/usa/daily/{ticker}.csv\"\n",
    "    elif frequency == 'hourly':\n",
    "        output_file = f\"data/equity/usa/hourly/{ticker}.csv\"\n",
    "    else:\n",
    "        output_file = f\"data/equity/usa/minute/{ticker}.zip\"\n",
    "\n",
    "    # Save as CSV in the required format\n",
    "    df.write_csv(output_file)\n"
   ]
  },
  {
   "cell_type": "code",
   "execution_count": 6,
   "metadata": {},
   "outputs": [
    {
     "ename": "AttributeError",
     "evalue": "module 'wrds' has no attribute 'Connection'",
     "output_type": "error",
     "traceback": [
      "\u001b[1;31m---------------------------------------------------------------------------\u001b[0m",
      "\u001b[1;31mAttributeError\u001b[0m                            Traceback (most recent call last)",
      "Cell \u001b[1;32mIn[6], line 20\u001b[0m\n\u001b[0;32m     18\u001b[0m \u001b[38;5;66;03m# Example usage\u001b[39;00m\n\u001b[0;32m     19\u001b[0m tickers \u001b[38;5;241m=\u001b[39m [\u001b[38;5;124m'\u001b[39m\u001b[38;5;124mAAPL\u001b[39m\u001b[38;5;124m'\u001b[39m]\n\u001b[1;32m---> 20\u001b[0m \u001b[43mwrds_pipeline\u001b[49m\u001b[43m(\u001b[49m\u001b[43mtickers\u001b[49m\u001b[43m,\u001b[49m\u001b[43m \u001b[49m\u001b[38;5;124;43m'\u001b[39;49m\u001b[38;5;124;43m2023-01-01\u001b[39;49m\u001b[38;5;124;43m'\u001b[39;49m\u001b[43m,\u001b[49m\u001b[43m \u001b[49m\u001b[38;5;124;43m'\u001b[39;49m\u001b[38;5;124;43m2023-09-01\u001b[39;49m\u001b[38;5;124;43m'\u001b[39;49m\u001b[43m,\u001b[49m\u001b[43m \u001b[49m\u001b[38;5;124;43m'\u001b[39;49m\u001b[38;5;124;43mdaily\u001b[39;49m\u001b[38;5;124;43m'\u001b[39;49m\u001b[43m)\u001b[49m\n",
      "Cell \u001b[1;32mIn[6], line 3\u001b[0m, in \u001b[0;36mwrds_pipeline\u001b[1;34m(tickers, start_date, end_date, frequency)\u001b[0m\n\u001b[0;32m      1\u001b[0m \u001b[38;5;28;01mdef\u001b[39;00m \u001b[38;5;21mwrds_pipeline\u001b[39m(tickers, start_date, end_date, frequency\u001b[38;5;241m=\u001b[39m\u001b[38;5;124m'\u001b[39m\u001b[38;5;124mdaily\u001b[39m\u001b[38;5;124m'\u001b[39m):\n\u001b[0;32m      2\u001b[0m     \u001b[38;5;66;03m# Connect to WRDS\u001b[39;00m\n\u001b[1;32m----> 3\u001b[0m     conn \u001b[38;5;241m=\u001b[39m \u001b[43mconnect_to_wrds\u001b[49m\u001b[43m(\u001b[49m\u001b[43m)\u001b[49m\n\u001b[0;32m      5\u001b[0m     \u001b[38;5;28;01mfor\u001b[39;00m ticker \u001b[38;5;129;01min\u001b[39;00m tickers:\n\u001b[0;32m      6\u001b[0m         \u001b[38;5;66;03m# Get OHLCV data\u001b[39;00m\n\u001b[0;32m      7\u001b[0m         raw_data \u001b[38;5;241m=\u001b[39m get_ohlcv_data(conn, [ticker], start_date, end_date)\n",
      "Cell \u001b[1;32mIn[1], line 6\u001b[0m, in \u001b[0;36mconnect_to_wrds\u001b[1;34m()\u001b[0m\n\u001b[0;32m      4\u001b[0m \u001b[38;5;28;01mdef\u001b[39;00m \u001b[38;5;21mconnect_to_wrds\u001b[39m():\n\u001b[0;32m      5\u001b[0m     \u001b[38;5;66;03m# Connect to WRDS using your credentials\u001b[39;00m\n\u001b[1;32m----> 6\u001b[0m     conn \u001b[38;5;241m=\u001b[39m \u001b[43mwrds\u001b[49m\u001b[38;5;241;43m.\u001b[39;49m\u001b[43mConnection\u001b[49m(wrds_username\u001b[38;5;241m=\u001b[39m\u001b[38;5;124m\"\u001b[39m\u001b[38;5;124myour_username\u001b[39m\u001b[38;5;124m\"\u001b[39m)\n\u001b[0;32m      7\u001b[0m     \u001b[38;5;28;01mreturn\u001b[39;00m conn\n",
      "\u001b[1;31mAttributeError\u001b[0m: module 'wrds' has no attribute 'Connection'"
     ]
    }
   ],
   "source": [
    "def wrds_pipeline(tickers, start_date, end_date, frequency='daily'):\n",
    "    # Connect to WRDS\n",
    "    conn = connect_to_wrds()\n",
    "    \n",
    "    for ticker in tickers:\n",
    "        # Get OHLCV data\n",
    "        raw_data = get_ohlcv_data(conn, [ticker], start_date, end_date)\n",
    "        \n",
    "        # Convert to Polars DataFrame\n",
    "        df_polars = convert_to_polars(raw_data)\n",
    "        \n",
    "        # Convert and save in LEAN format\n",
    "        convert_to_lean_format_polars(df_polars, ticker, frequency)\n",
    "    \n",
    "    # Close the connection when done\n",
    "    conn.close()\n",
    "\n",
    "# Example usage\n",
    "tickers = ['AAPL']\n",
    "wrds_pipeline(tickers, '2023-01-01', '2023-09-01', 'daily')\n"
   ]
  },
  {
   "cell_type": "code",
   "execution_count": null,
   "metadata": {},
   "outputs": [],
   "source": []
  }
 ],
 "metadata": {
  "kernelspec": {
   "display_name": "lean_datafeed",
   "language": "python",
   "name": "python3"
  },
  "language_info": {
   "codemirror_mode": {
    "name": "ipython",
    "version": 3
   },
   "file_extension": ".py",
   "mimetype": "text/x-python",
   "name": "python",
   "nbconvert_exporter": "python",
   "pygments_lexer": "ipython3",
   "version": "3.12.5"
  }
 },
 "nbformat": 4,
 "nbformat_minor": 2
}
